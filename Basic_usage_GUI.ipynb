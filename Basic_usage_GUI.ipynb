{
 "cells": [
  {
   "cell_type": "markdown",
   "metadata": {},
   "source": [
    "## Colab - Install citepro"
   ]
  },
  {
   "cell_type": "code",
   "execution_count": null,
   "metadata": {},
   "outputs": [],
   "source": [
    "!uv pip install --system \"git+https://github.com/ptggenomics/citepro.git\" ipywidgets ipyfilechooser"
   ]
  },
  {
   "cell_type": "markdown",
   "metadata": {},
   "source": [
    "## Import citepro"
   ]
  },
  {
   "cell_type": "code",
   "execution_count": 1,
   "metadata": {},
   "outputs": [
    {
     "name": "stderr",
     "output_type": "stream",
     "text": [
      "👉 Detailed model information can be found at `https://www.celltypist.org/models`\n"
     ]
    }
   ],
   "source": [
    "import citepro"
   ]
  },
  {
   "cell_type": "markdown",
   "metadata": {},
   "source": [
    "## Downloading example dataset\n",
    "\n",
    "In this tutorial, we are downloading a demo dataset directly to the colab virtual machine. Alternatively, one can upload the count matrix to Google Drive and mount the drive to access the data "
   ]
  },
  {
   "cell_type": "code",
   "execution_count": null,
   "metadata": {},
   "outputs": [],
   "source": [
    "!curl -LO https://ptgngsdata.s3.us-west-2.amazonaws.com/counts/E44_1_restPBMC_DCpos_filtered_feature_bc_matrix.h5"
   ]
  },
  {
   "cell_type": "markdown",
   "metadata": {},
   "source": [
    "## Parameters for create_mudata\n",
    "\n",
    "These are parameters for create_mudata:\n",
    "  * path_count - file path to the count matrix\n",
    "  * allow_file - file that contains barcodes passed filter \\(a.k.a allow list\\)\n",
    "  * sample_id - a sample id string. \\(Optional\\)\n",
    "  * prot_norm - method of protein normalization \\(acceptable values: asinh, clr, none\\)\n",
    "  * celltypist_model - predefined model to predict cell types\n",
    "  * add_3d_umap - whether to generate 3d umap "
   ]
  },
  {
   "cell_type": "markdown",
   "metadata": {},
   "source": [
    "#### Explore the celltypist models\n",
    "\n",
    "Execute the following code to see all the available built-in models from the [Celltypist](https://www.celltypist.org/models)"
   ]
  },
  {
   "cell_type": "code",
   "execution_count": 6,
   "metadata": {},
   "outputs": [
    {
     "name": "stderr",
     "output_type": "stream",
     "text": [
      "👉 Detailed model information can be found at `https://www.celltypist.org/models`\n"
     ]
    },
    {
     "data": {
      "text/html": [
       "<div>\n",
       "<style scoped>\n",
       "    .dataframe tbody tr th:only-of-type {\n",
       "        vertical-align: middle;\n",
       "    }\n",
       "\n",
       "    .dataframe tbody tr th {\n",
       "        vertical-align: top;\n",
       "    }\n",
       "\n",
       "    .dataframe thead th {\n",
       "        text-align: right;\n",
       "    }\n",
       "</style>\n",
       "<table border=\"1\" class=\"dataframe\">\n",
       "  <thead>\n",
       "    <tr style=\"text-align: right;\">\n",
       "      <th></th>\n",
       "      <th>model</th>\n",
       "      <th>description</th>\n",
       "    </tr>\n",
       "  </thead>\n",
       "  <tbody>\n",
       "    <tr>\n",
       "      <th>0</th>\n",
       "      <td>Immune_All_Low.pkl</td>\n",
       "      <td>immune sub-populations combined from 20 tissue...</td>\n",
       "    </tr>\n",
       "    <tr>\n",
       "      <th>1</th>\n",
       "      <td>Immune_All_High.pkl</td>\n",
       "      <td>immune populations combined from 20 tissues of...</td>\n",
       "    </tr>\n",
       "    <tr>\n",
       "      <th>2</th>\n",
       "      <td>Adult_COVID19_PBMC.pkl</td>\n",
       "      <td>peripheral blood mononuclear cell types from C...</td>\n",
       "    </tr>\n",
       "    <tr>\n",
       "      <th>3</th>\n",
       "      <td>Adult_CynomolgusMacaque_Hippocampus.pkl</td>\n",
       "      <td>cell types from the hippocampus of adult cynom...</td>\n",
       "    </tr>\n",
       "    <tr>\n",
       "      <th>4</th>\n",
       "      <td>Adult_Human_MTG.pkl</td>\n",
       "      <td>cell types and subtypes (10x-based) from the a...</td>\n",
       "    </tr>\n",
       "    <tr>\n",
       "      <th>5</th>\n",
       "      <td>Adult_Human_PancreaticIslet.pkl</td>\n",
       "      <td>cell types from pancreatic islets of healthy a...</td>\n",
       "    </tr>\n",
       "    <tr>\n",
       "      <th>6</th>\n",
       "      <td>Adult_Human_PrefrontalCortex.pkl</td>\n",
       "      <td>cell types and subtypes from the adult human d...</td>\n",
       "    </tr>\n",
       "    <tr>\n",
       "      <th>7</th>\n",
       "      <td>Adult_Human_Skin.pkl</td>\n",
       "      <td>cell types from human healthy adult skin</td>\n",
       "    </tr>\n",
       "    <tr>\n",
       "      <th>8</th>\n",
       "      <td>Adult_Human_Vascular.pkl</td>\n",
       "      <td>vascular populations combined from multiple ad...</td>\n",
       "    </tr>\n",
       "    <tr>\n",
       "      <th>9</th>\n",
       "      <td>Adult_Mouse_Gut.pkl</td>\n",
       "      <td>cell types in the adult mouse gut combined fro...</td>\n",
       "    </tr>\n",
       "    <tr>\n",
       "      <th>10</th>\n",
       "      <td>Adult_Mouse_OlfactoryBulb.pkl</td>\n",
       "      <td>cell types from the olfactory bulb of adult mice</td>\n",
       "    </tr>\n",
       "    <tr>\n",
       "      <th>11</th>\n",
       "      <td>Adult_Pig_Hippocampus.pkl</td>\n",
       "      <td>cell types from the adult pig hippocampus</td>\n",
       "    </tr>\n",
       "    <tr>\n",
       "      <th>12</th>\n",
       "      <td>Adult_RhesusMacaque_Hippocampus.pkl</td>\n",
       "      <td>cell types from the hippocampus of adult rhesu...</td>\n",
       "    </tr>\n",
       "    <tr>\n",
       "      <th>13</th>\n",
       "      <td>Autopsy_COVID19_Lung.pkl</td>\n",
       "      <td>cell types from the lungs of 16 SARS-CoV-2 inf...</td>\n",
       "    </tr>\n",
       "    <tr>\n",
       "      <th>14</th>\n",
       "      <td>COVID19_HumanChallenge_Blood.pkl</td>\n",
       "      <td>detailed blood cell states from 16 individuals...</td>\n",
       "    </tr>\n",
       "    <tr>\n",
       "      <th>15</th>\n",
       "      <td>COVID19_Immune_Landscape.pkl</td>\n",
       "      <td>immune subtypes from lung and blood of COVID-1...</td>\n",
       "    </tr>\n",
       "    <tr>\n",
       "      <th>16</th>\n",
       "      <td>Cells_Adult_Breast.pkl</td>\n",
       "      <td>cell types from the adult human breast</td>\n",
       "    </tr>\n",
       "    <tr>\n",
       "      <th>17</th>\n",
       "      <td>Cells_Fetal_Lung.pkl</td>\n",
       "      <td>cell types from human embryonic and fetal lungs</td>\n",
       "    </tr>\n",
       "    <tr>\n",
       "      <th>18</th>\n",
       "      <td>Cells_Human_Tonsil.pkl</td>\n",
       "      <td>tonsillar cell types from humans (3-65 years)</td>\n",
       "    </tr>\n",
       "    <tr>\n",
       "      <th>19</th>\n",
       "      <td>Cells_Intestinal_Tract.pkl</td>\n",
       "      <td>intestinal cells from fetal, pediatric (health...</td>\n",
       "    </tr>\n",
       "    <tr>\n",
       "      <th>20</th>\n",
       "      <td>Cells_Lung_Airway.pkl</td>\n",
       "      <td>cell populations from scRNA-seq of five locati...</td>\n",
       "    </tr>\n",
       "    <tr>\n",
       "      <th>21</th>\n",
       "      <td>Developing_Human_Brain.pkl</td>\n",
       "      <td>cell types from the first-trimester developing...</td>\n",
       "    </tr>\n",
       "    <tr>\n",
       "      <th>22</th>\n",
       "      <td>Developing_Human_Gonads.pkl</td>\n",
       "      <td>cell types of human gonadal and adjacent extra...</td>\n",
       "    </tr>\n",
       "    <tr>\n",
       "      <th>23</th>\n",
       "      <td>Developing_Human_Hippocampus.pkl</td>\n",
       "      <td>cell types from the developing human hippocampus</td>\n",
       "    </tr>\n",
       "    <tr>\n",
       "      <th>24</th>\n",
       "      <td>Developing_Human_Organs.pkl</td>\n",
       "      <td>cell types of five endoderm-derived organs in ...</td>\n",
       "    </tr>\n",
       "    <tr>\n",
       "      <th>25</th>\n",
       "      <td>Developing_Human_Thymus.pkl</td>\n",
       "      <td>cell populations in embryonic, fetal, pediatri...</td>\n",
       "    </tr>\n",
       "    <tr>\n",
       "      <th>26</th>\n",
       "      <td>Developing_Mouse_Brain.pkl</td>\n",
       "      <td>cell types from the embryonic mouse brain betw...</td>\n",
       "    </tr>\n",
       "    <tr>\n",
       "      <th>27</th>\n",
       "      <td>Developing_Mouse_Hippocampus.pkl</td>\n",
       "      <td>cell types from the mouse hippocampus at postn...</td>\n",
       "    </tr>\n",
       "    <tr>\n",
       "      <th>28</th>\n",
       "      <td>Fetal_Human_AdrenalGlands.pkl</td>\n",
       "      <td>cell types of human fetal adrenal glands from ...</td>\n",
       "    </tr>\n",
       "    <tr>\n",
       "      <th>29</th>\n",
       "      <td>Fetal_Human_Pancreas.pkl</td>\n",
       "      <td>pancreatic cell types from human embryos at 9-...</td>\n",
       "    </tr>\n",
       "    <tr>\n",
       "      <th>30</th>\n",
       "      <td>Fetal_Human_Pituitary.pkl</td>\n",
       "      <td>cell types of human fetal pituitaries from 7 t...</td>\n",
       "    </tr>\n",
       "    <tr>\n",
       "      <th>31</th>\n",
       "      <td>Fetal_Human_Retina.pkl</td>\n",
       "      <td>cell types from human fetal neural retina and ...</td>\n",
       "    </tr>\n",
       "    <tr>\n",
       "      <th>32</th>\n",
       "      <td>Fetal_Human_Skin.pkl</td>\n",
       "      <td>cell types from developing human fetal skin</td>\n",
       "    </tr>\n",
       "    <tr>\n",
       "      <th>33</th>\n",
       "      <td>Healthy_Adult_Heart.pkl</td>\n",
       "      <td>cell types from eight anatomical regions of th...</td>\n",
       "    </tr>\n",
       "    <tr>\n",
       "      <th>34</th>\n",
       "      <td>Healthy_COVID19_PBMC.pkl</td>\n",
       "      <td>peripheral blood mononuclear cell types from h...</td>\n",
       "    </tr>\n",
       "    <tr>\n",
       "      <th>35</th>\n",
       "      <td>Healthy_Human_Liver.pkl</td>\n",
       "      <td>cell types from scRNA-seq and snRNA-seq of the...</td>\n",
       "    </tr>\n",
       "    <tr>\n",
       "      <th>36</th>\n",
       "      <td>Healthy_Mouse_Liver.pkl</td>\n",
       "      <td>cell types from scRNA-seq and snRNA-seq of the...</td>\n",
       "    </tr>\n",
       "    <tr>\n",
       "      <th>37</th>\n",
       "      <td>Human_AdultAged_Hippocampus.pkl</td>\n",
       "      <td>cell types from the hippocampus of adult and a...</td>\n",
       "    </tr>\n",
       "    <tr>\n",
       "      <th>38</th>\n",
       "      <td>Human_Colorectal_Cancer.pkl</td>\n",
       "      <td>cell types of colon tissues from patients with...</td>\n",
       "    </tr>\n",
       "    <tr>\n",
       "      <th>39</th>\n",
       "      <td>Human_Developmental_Retina.pkl</td>\n",
       "      <td>cell types from human fetal retina</td>\n",
       "    </tr>\n",
       "    <tr>\n",
       "      <th>40</th>\n",
       "      <td>Human_Embryonic_YolkSac.pkl</td>\n",
       "      <td>cell types of the human yolk sac from 4-8 post...</td>\n",
       "    </tr>\n",
       "    <tr>\n",
       "      <th>41</th>\n",
       "      <td>Human_Endometrium_Atlas.pkl</td>\n",
       "      <td>endometrial cell types integrated from seven d...</td>\n",
       "    </tr>\n",
       "    <tr>\n",
       "      <th>42</th>\n",
       "      <td>Human_IPF_Lung.pkl</td>\n",
       "      <td>cell types from idiopathic pulmonary fibrosis,...</td>\n",
       "    </tr>\n",
       "    <tr>\n",
       "      <th>43</th>\n",
       "      <td>Human_Longitudinal_Hippocampus.pkl</td>\n",
       "      <td>cell types from the adult human anterior and p...</td>\n",
       "    </tr>\n",
       "    <tr>\n",
       "      <th>44</th>\n",
       "      <td>Human_Lung_Atlas.pkl</td>\n",
       "      <td>integrated Human Lung Cell Atlas (HLCA) combin...</td>\n",
       "    </tr>\n",
       "    <tr>\n",
       "      <th>45</th>\n",
       "      <td>Human_PF_Lung.pkl</td>\n",
       "      <td>cell types from different forms of pulmonary f...</td>\n",
       "    </tr>\n",
       "    <tr>\n",
       "      <th>46</th>\n",
       "      <td>Human_Placenta_Decidua.pkl</td>\n",
       "      <td>cell types from first-trimester human placenta...</td>\n",
       "    </tr>\n",
       "    <tr>\n",
       "      <th>47</th>\n",
       "      <td>Lethal_COVID19_Lung.pkl</td>\n",
       "      <td>cell types from the lungs of individuals who d...</td>\n",
       "    </tr>\n",
       "    <tr>\n",
       "      <th>48</th>\n",
       "      <td>Mouse_Dentate_Gyrus.pkl</td>\n",
       "      <td>cell types from the dentate gyrus in perinatal...</td>\n",
       "    </tr>\n",
       "    <tr>\n",
       "      <th>49</th>\n",
       "      <td>Mouse_Isocortex_Hippocampus.pkl</td>\n",
       "      <td>cell types from the adult mouse isocortex (neo...</td>\n",
       "    </tr>\n",
       "    <tr>\n",
       "      <th>50</th>\n",
       "      <td>Mouse_Postnatal_DentateGyrus.pkl</td>\n",
       "      <td>cell types from the mouse dentate gyrus in pos...</td>\n",
       "    </tr>\n",
       "    <tr>\n",
       "      <th>51</th>\n",
       "      <td>Mouse_Whole_Brain.pkl</td>\n",
       "      <td>cell types from the whole adult mouse brain</td>\n",
       "    </tr>\n",
       "    <tr>\n",
       "      <th>52</th>\n",
       "      <td>Nuclei_Lung_Airway.pkl</td>\n",
       "      <td>cell populations from snRNA-seq of five locati...</td>\n",
       "    </tr>\n",
       "    <tr>\n",
       "      <th>53</th>\n",
       "      <td>Pan_Fetal_Human.pkl</td>\n",
       "      <td>stromal and immune populations from the human ...</td>\n",
       "    </tr>\n",
       "  </tbody>\n",
       "</table>\n",
       "</div>"
      ],
      "text/plain": [
       "                                      model  \\\n",
       "0                        Immune_All_Low.pkl   \n",
       "1                       Immune_All_High.pkl   \n",
       "2                    Adult_COVID19_PBMC.pkl   \n",
       "3   Adult_CynomolgusMacaque_Hippocampus.pkl   \n",
       "4                       Adult_Human_MTG.pkl   \n",
       "5           Adult_Human_PancreaticIslet.pkl   \n",
       "6          Adult_Human_PrefrontalCortex.pkl   \n",
       "7                      Adult_Human_Skin.pkl   \n",
       "8                  Adult_Human_Vascular.pkl   \n",
       "9                       Adult_Mouse_Gut.pkl   \n",
       "10            Adult_Mouse_OlfactoryBulb.pkl   \n",
       "11                Adult_Pig_Hippocampus.pkl   \n",
       "12      Adult_RhesusMacaque_Hippocampus.pkl   \n",
       "13                 Autopsy_COVID19_Lung.pkl   \n",
       "14         COVID19_HumanChallenge_Blood.pkl   \n",
       "15             COVID19_Immune_Landscape.pkl   \n",
       "16                   Cells_Adult_Breast.pkl   \n",
       "17                     Cells_Fetal_Lung.pkl   \n",
       "18                   Cells_Human_Tonsil.pkl   \n",
       "19               Cells_Intestinal_Tract.pkl   \n",
       "20                    Cells_Lung_Airway.pkl   \n",
       "21               Developing_Human_Brain.pkl   \n",
       "22              Developing_Human_Gonads.pkl   \n",
       "23         Developing_Human_Hippocampus.pkl   \n",
       "24              Developing_Human_Organs.pkl   \n",
       "25              Developing_Human_Thymus.pkl   \n",
       "26               Developing_Mouse_Brain.pkl   \n",
       "27         Developing_Mouse_Hippocampus.pkl   \n",
       "28            Fetal_Human_AdrenalGlands.pkl   \n",
       "29                 Fetal_Human_Pancreas.pkl   \n",
       "30                Fetal_Human_Pituitary.pkl   \n",
       "31                   Fetal_Human_Retina.pkl   \n",
       "32                     Fetal_Human_Skin.pkl   \n",
       "33                  Healthy_Adult_Heart.pkl   \n",
       "34                 Healthy_COVID19_PBMC.pkl   \n",
       "35                  Healthy_Human_Liver.pkl   \n",
       "36                  Healthy_Mouse_Liver.pkl   \n",
       "37          Human_AdultAged_Hippocampus.pkl   \n",
       "38              Human_Colorectal_Cancer.pkl   \n",
       "39           Human_Developmental_Retina.pkl   \n",
       "40              Human_Embryonic_YolkSac.pkl   \n",
       "41              Human_Endometrium_Atlas.pkl   \n",
       "42                       Human_IPF_Lung.pkl   \n",
       "43       Human_Longitudinal_Hippocampus.pkl   \n",
       "44                     Human_Lung_Atlas.pkl   \n",
       "45                        Human_PF_Lung.pkl   \n",
       "46               Human_Placenta_Decidua.pkl   \n",
       "47                  Lethal_COVID19_Lung.pkl   \n",
       "48                  Mouse_Dentate_Gyrus.pkl   \n",
       "49          Mouse_Isocortex_Hippocampus.pkl   \n",
       "50         Mouse_Postnatal_DentateGyrus.pkl   \n",
       "51                    Mouse_Whole_Brain.pkl   \n",
       "52                   Nuclei_Lung_Airway.pkl   \n",
       "53                      Pan_Fetal_Human.pkl   \n",
       "\n",
       "                                          description  \n",
       "0   immune sub-populations combined from 20 tissue...  \n",
       "1   immune populations combined from 20 tissues of...  \n",
       "2   peripheral blood mononuclear cell types from C...  \n",
       "3   cell types from the hippocampus of adult cynom...  \n",
       "4   cell types and subtypes (10x-based) from the a...  \n",
       "5   cell types from pancreatic islets of healthy a...  \n",
       "6   cell types and subtypes from the adult human d...  \n",
       "7            cell types from human healthy adult skin  \n",
       "8   vascular populations combined from multiple ad...  \n",
       "9   cell types in the adult mouse gut combined fro...  \n",
       "10   cell types from the olfactory bulb of adult mice  \n",
       "11          cell types from the adult pig hippocampus  \n",
       "12  cell types from the hippocampus of adult rhesu...  \n",
       "13  cell types from the lungs of 16 SARS-CoV-2 inf...  \n",
       "14  detailed blood cell states from 16 individuals...  \n",
       "15  immune subtypes from lung and blood of COVID-1...  \n",
       "16             cell types from the adult human breast  \n",
       "17    cell types from human embryonic and fetal lungs  \n",
       "18      tonsillar cell types from humans (3-65 years)  \n",
       "19  intestinal cells from fetal, pediatric (health...  \n",
       "20  cell populations from scRNA-seq of five locati...  \n",
       "21  cell types from the first-trimester developing...  \n",
       "22  cell types of human gonadal and adjacent extra...  \n",
       "23   cell types from the developing human hippocampus  \n",
       "24  cell types of five endoderm-derived organs in ...  \n",
       "25  cell populations in embryonic, fetal, pediatri...  \n",
       "26  cell types from the embryonic mouse brain betw...  \n",
       "27  cell types from the mouse hippocampus at postn...  \n",
       "28  cell types of human fetal adrenal glands from ...  \n",
       "29  pancreatic cell types from human embryos at 9-...  \n",
       "30  cell types of human fetal pituitaries from 7 t...  \n",
       "31  cell types from human fetal neural retina and ...  \n",
       "32        cell types from developing human fetal skin  \n",
       "33  cell types from eight anatomical regions of th...  \n",
       "34  peripheral blood mononuclear cell types from h...  \n",
       "35  cell types from scRNA-seq and snRNA-seq of the...  \n",
       "36  cell types from scRNA-seq and snRNA-seq of the...  \n",
       "37  cell types from the hippocampus of adult and a...  \n",
       "38  cell types of colon tissues from patients with...  \n",
       "39                 cell types from human fetal retina  \n",
       "40  cell types of the human yolk sac from 4-8 post...  \n",
       "41  endometrial cell types integrated from seven d...  \n",
       "42  cell types from idiopathic pulmonary fibrosis,...  \n",
       "43  cell types from the adult human anterior and p...  \n",
       "44  integrated Human Lung Cell Atlas (HLCA) combin...  \n",
       "45  cell types from different forms of pulmonary f...  \n",
       "46  cell types from first-trimester human placenta...  \n",
       "47  cell types from the lungs of individuals who d...  \n",
       "48  cell types from the dentate gyrus in perinatal...  \n",
       "49  cell types from the adult mouse isocortex (neo...  \n",
       "50  cell types from the mouse dentate gyrus in pos...  \n",
       "51        cell types from the whole adult mouse brain  \n",
       "52  cell populations from snRNA-seq of five locati...  \n",
       "53  stromal and immune populations from the human ...  "
      ]
     },
     "execution_count": 6,
     "metadata": {},
     "output_type": "execute_result"
    }
   ],
   "source": [
    "import celltypist as ct\n",
    "ct.models.models_description()\n"
   ]
  },
  {
   "cell_type": "markdown",
   "metadata": {},
   "source": [
    "If any of above model fits your need, use it as the `celltypist_model` parameter, otherwize choose none to omit celltype prediction."
   ]
  },
  {
   "cell_type": "code",
   "execution_count": 3,
   "metadata": {},
   "outputs": [
    {
     "data": {
      "application/vnd.jupyter.widget-view+json": {
       "model_id": "10ce3bdcf5bb4cf1bb38ff61f2b69d22",
       "version_major": 2,
       "version_minor": 0
      },
      "text/plain": [
       "VBox(children=(HBox(children=(Label(value='Count_matrix'), FileChooser(path='/home/jasonhuang/gitplaza/citepro…"
      ]
     },
     "metadata": {},
     "output_type": "display_data"
    },
    {
     "name": "stdout",
     "output_type": "stream",
     "text": [
      "Check parameters...\n",
      "Setting:\n",
      "    count_matrix: /home/jasonhuang/gitplaza/citepro_notebook/uv.lock \n",
      "    barcode_block_list: None\n",
      "    sample_id: None\n",
      "    celltypist_model: Immune_All_Low.pkl\n",
      "    add_3d_umap: True\n",
      "Good to go!\n"
     ]
    }
   ],
   "source": [
    "\n",
    "create_mu_params  = citepro.nbgui.generate_create_mu_setting()"
   ]
  },
  {
   "cell_type": "markdown",
   "metadata": {},
   "source": [
    "### execute the create_mudata\n",
    "\n",
    "Now let's read in this data and create mudata object. This usually takes >10 minutes on colab, but will be faster \\(5-10 minutes\\) on a recent generation of HPC"
   ]
  },
  {
   "cell_type": "code",
   "execution_count": null,
   "metadata": {},
   "outputs": [],
   "source": [
    "mudat = citepro.recipe.create_mudata(**create_mu_params)"
   ]
  },
  {
   "cell_type": "markdown",
   "metadata": {},
   "source": [
    "### Save the result mudata into .h5mu format"
   ]
  },
  {
   "cell_type": "code",
   "execution_count": 11,
   "metadata": {},
   "outputs": [],
   "source": [
    "!mkdir -p data"
   ]
  },
  {
   "cell_type": "code",
   "execution_count": null,
   "metadata": {},
   "outputs": [],
   "source": [
    "\n",
    "mudat.write_h5mu('data/test.h5mu')"
   ]
  },
  {
   "cell_type": "markdown",
   "metadata": {},
   "source": [
    "The MuData can be read back with ```mu.read_h5mu()``` function.\n",
    "\n",
    "\n",
    "```python\n",
    "mudat = mu.read_h5mu('data/test.h5mu')\n",
    "```"
   ]
  },
  {
   "cell_type": "markdown",
   "metadata": {},
   "source": [
    "## protein descriptive metadata \n",
    "A few useful antibody descriptive data are already incoporated in the data.\n",
    "  * sum - Sum of all UMIs of this antibody among all cells.\n",
    "  * percent - percent of total UMI count this antibody occupied. Useful for determining whether a antibody needs furthur titrated. A general rule of thumb is that no antibody should occupy more than 10% of UMI count space, given that this a decently sized \\(>20 antibodies\\)) cocktail. \n",
    "  * median, 75th and 95th - median UMI count across all cells\n",
    "  "
   ]
  },
  {
   "cell_type": "code",
   "execution_count": null,
   "metadata": {},
   "outputs": [],
   "source": [
    "mudat['prot'].var[['gene_ids', 'sum', 'percent','median', '75th', '95th']].sort_values(by='percent', ascending=False)"
   ]
  },
  {
   "cell_type": "markdown",
   "metadata": {},
   "source": [
    "## Convert MuData to AnnData\n",
    "let's convert to anndata for the ease of downstrean analysis"
   ]
  },
  {
   "cell_type": "code",
   "execution_count": 14,
   "metadata": {},
   "outputs": [],
   "source": [
    "adata = citepro.recipe.mu_to_ann(mudat)"
   ]
  },
  {
   "cell_type": "code",
   "execution_count": 1,
   "metadata": {},
   "outputs": [
    {
     "name": "stderr",
     "output_type": "stream",
     "text": [
      "👉 Detailed model information can be found at `https://www.celltypist.org/models`\n"
     ]
    }
   ],
   "source": [
    "import celltypist as ct\n",
    "modname = [mn for mn in ct.models.models_description()['model']]\n",
    "modname.insert(0, \"--- None ---\")"
   ]
  },
  {
   "cell_type": "code",
   "execution_count": 2,
   "metadata": {},
   "outputs": [],
   "source": [
    "mdata = None"
   ]
  },
  {
   "cell_type": "code",
   "execution_count": 8,
   "metadata": {},
   "outputs": [
    {
     "data": {
      "application/vnd.jupyter.widget-view+json": {
       "model_id": "c8c44b2f702c4afea6d5c8729eb5542c",
       "version_major": 2,
       "version_minor": 0
      },
      "text/plain": [
       "VBox(children=(HBox(children=(Label(value='Count_matrix'), FileChooser(path='/home/jasonhuang/gitplaza/citepro…"
      ]
     },
     "metadata": {},
     "output_type": "display_data"
    },
    {
     "name": "stdout",
     "output_type": "stream",
     "text": [
      "Check parameters...\n",
      "Setting:\n",
      "    count_matrix: /home/jasonhuang/gitplaza/citepro_notebook/Basic_usage_GUI.ipynb \n",
      "    barcode_block_list: None\n",
      "    sample_id: None\n",
      "    celltypist_model: Immune_All_Low.pkl\n",
      "    add_3d_umap: True\n",
      "Check parameters...\n",
      "Setting:\n",
      "    count_matrix: /home/jasonhuang/gitplaza/citepro_notebook/Basic_usage_GUI.ipynb \n",
      "    barcode_block_list: None\n",
      "    sample_id: 3\n",
      "    celltypist_model: Immune_All_Low.pkl\n",
      "    add_3d_umap: True\n"
     ]
    }
   ],
   "source": [
    "from ipyfilechooser import FileChooser\n",
    "import ipywidgets as widgets\n",
    "from IPython.display import display\n",
    "\n",
    "\n",
    "# Create and display a FileChooser widget\n",
    "fc_count = FileChooser()\n",
    "fc_count_reset = widgets.Button(description='Reset selection', layout=widgets.Layout(width='150px'))\n",
    "fc_count_reset.on_click(lambda x: fc_count.reset())\n",
    "\n",
    "#fc_count = 'Count_matrix'\n",
    "\n",
    "ta_samp_id = widgets.Text(\n",
    "    description='Sample_ID'\n",
    ")\n",
    "# Create another FileChooser widget for barcode block list\n",
    "fc_barcode = FileChooser()\n",
    "fc_barcode_reset = widgets.Button(description='Reset selection', layout=widgets.Layout(width='150px'))\n",
    "fc_barcode_reset.on_click(lambda x: fc_barcode.reset())\n",
    "#fc_barcode.title = 'Barcode_block_list'\n",
    "\n",
    "celltypist_model_dropdown = widgets.Dropdown(\n",
    "    options=modname,\n",
    "    value='Immune_All_Low.pkl'\n",
    ")\n",
    "\n",
    "cb_3d_umap = widgets.Checkbox(value=True, description='Generate 3D umap')\n",
    "\n",
    "def on_run(b):\n",
    "    print('Check parameters...')\n",
    "    if not fc_count.selected:\n",
    "        print('Please select a count matrix.')\n",
    "        return\n",
    "    ct_model = celltypist_model_dropdown.value if celltypist_model_dropdown.value != \"--- None ---\" else None\n",
    "    sampid = ta_samp_id.value if ta_samp_id.value else None\n",
    "    global mudat\n",
    "    print(\"Setting:\\n    count_matrix: {} \\n    barcode_block_list: {}\\n    sample_id: {}\\n    celltypist_model: {}\\n    add_3d_umap: {}\".format(\n",
    "        fc_count.selected, fc_barcode.selected, sampid, ct_model, cb_3d_umap.value))\n",
    "\n",
    "    #mudat = citepro.recipe.create_mudata(path_count=fc_count.selected, samp_id=ta_samp_id.value, celltypist_model=ct_model, add_3d_umap = cb_3d_umap.value)\n",
    "\n",
    "\n",
    "run_button = widgets.Button(description='Run', layout=widgets.Layout(width='150px'))\n",
    "run_button.on_click(on_run)\n",
    "\n",
    "lay1 = widgets.Layout(border = '1px solid #777777', padding = '2px', margin = '5px')\n",
    "hboxes = []\n",
    "hboxes.append(widgets.HBox([widgets.Label(value = 'Count_matrix'), fc_count, fc_count_reset], layout = lay1))\n",
    "hboxes.append(widgets.HBox([widgets.Label(value = 'Barcode_block_list'), fc_barcode, fc_barcode_reset], layout = lay1))\n",
    "hboxes.append(widgets.HBox([ta_samp_id], layout = lay1))\n",
    "hboxes.append(widgets.HBox([widgets.Label(value = 'Celltypist'), celltypist_model_dropdown], layout = lay1))\n",
    "hboxes.append(widgets.HBox([cb_3d_umap], layout = lay1))\n",
    "hboxes.append(widgets.HBox([run_button], layout = lay1))\n",
    "#hboxes.append(widgets.HBox(output, layout = lay1))\n",
    "\n",
    "#hbox2 = widgets.HBox([ta_samp_id, celltypist_model_dropdown])                     \n",
    "# Wrap the file choosers with VBox\n",
    "vbox = widgets.VBox(hboxes)\n",
    "display(vbox)\n"
   ]
  },
  {
   "cell_type": "code",
   "execution_count": 4,
   "metadata": {},
   "outputs": [
    {
     "data": {
      "text/plain": [
       "3"
      ]
     },
     "execution_count": 4,
     "metadata": {},
     "output_type": "execute_result"
    }
   ],
   "source": [
    "result"
   ]
  },
  {
   "cell_type": "markdown",
   "metadata": {},
   "source": [
    "The converted AnnData object has a structure as below:"
   ]
  },
  {
   "cell_type": "code",
   "execution_count": null,
   "metadata": {},
   "outputs": [],
   "source": [
    "adata"
   ]
  },
  {
   "cell_type": "markdown",
   "metadata": {},
   "source": [
    "## Basic plotting using scanpy"
   ]
  },
  {
   "cell_type": "code",
   "execution_count": 16,
   "metadata": {},
   "outputs": [],
   "source": [
    "import scanpy as sc"
   ]
  },
  {
   "cell_type": "markdown",
   "metadata": {},
   "source": [
    "Feature plots using rna-generated umap, colored by CD8A protein level"
   ]
  },
  {
   "cell_type": "code",
   "execution_count": null,
   "metadata": {},
   "outputs": [],
   "source": [
    "sc.pl.embedding(adata, basis= 'X_umap_rna', color = ['prot:CD8A.65146.1'])"
   ]
  },
  {
   "cell_type": "markdown",
   "metadata": {},
   "source": [
    "Feature plots using rna-generated umap, colored by predicted cell types"
   ]
  },
  {
   "cell_type": "code",
   "execution_count": null,
   "metadata": {},
   "outputs": [],
   "source": [
    "sc.pl.embedding(adata, basis= 'X_umap_rna', color = ['celltype_ct_majvote'])"
   ]
  },
  {
   "cell_type": "markdown",
   "metadata": {},
   "source": [
    "Put protein and its encoding transcript expression level side-by-side"
   ]
  },
  {
   "cell_type": "code",
   "execution_count": null,
   "metadata": {},
   "outputs": [],
   "source": [
    "sc.pl.embedding(adata, basis= 'X_umap_rna', color = ['prot:CD8A.65146.1', 'rna:CD8A'])"
   ]
  },
  {
   "cell_type": "markdown",
   "metadata": {},
   "source": [
    "Scanpy supports generating 3D umap!"
   ]
  },
  {
   "cell_type": "code",
   "execution_count": null,
   "metadata": {},
   "outputs": [],
   "source": [
    "sc.pl.embedding(adata, basis= 'X_umap_rna_3d', color = ['prot:CD8A.65146.1', 'rna:CD8A'], projection='3d')"
   ]
  },
  {
   "cell_type": "markdown",
   "metadata": {},
   "source": [
    "## save the processed AnnData object"
   ]
  },
  {
   "cell_type": "code",
   "execution_count": null,
   "metadata": {},
   "outputs": [],
   "source": [
    "adata.write_h5ad('data/test.h5ad')"
   ]
  }
 ],
 "metadata": {
  "kernelspec": {
   "display_name": ".venv",
   "language": "python",
   "name": "python3"
  },
  "language_info": {
   "codemirror_mode": {
    "name": "ipython",
    "version": 3
   },
   "file_extension": ".py",
   "mimetype": "text/x-python",
   "name": "python",
   "nbconvert_exporter": "python",
   "pygments_lexer": "ipython3",
   "version": "3.10.16"
  }
 },
 "nbformat": 4,
 "nbformat_minor": 2
}
